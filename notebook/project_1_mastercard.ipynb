{
  "cells": [
    {
      "cell_type": "markdown",
      "metadata": {
        "id": "d4mE9FYHkiS1"
      },
      "source": [
        "# **Проект \"MasterCard Stock Data\"**\n",
        "\n",
        "Подготовка данных, обучение модели, сохраниние модели для создания веб приложения.\n",
        "\n",
        "\n",
        "---\n",
        "\n"
      ]
    },
    {
      "cell_type": "markdown",
      "metadata": {
        "id": "lygsSHmqkv4U"
      },
      "source": [
        "Загружаем нужные библиотеки:"
      ]
    },
    {
      "cell_type": "code",
      "execution_count": 1,
      "metadata": {
        "id": "V6XWOEQ7JSt-"
      },
      "outputs": [],
      "source": [
        "%matplotlib inline\n",
        "import matplotlib.pyplot as plt\n",
        "import pandas as pd\n",
        "import seaborn as sns\n",
        "import numpy as np\n",
        "from scipy import stats\n",
        "import pickle"
      ]
    },
    {
      "cell_type": "markdown",
      "metadata": {
        "id": "kszRjdKok-ak"
      },
      "source": [
        "Загружаем файл с гитхаба.\n",
        "Устанавливаем random.seed(0) для стабильности данных при перезапуске\n"
      ]
    },
    {
      "cell_type": "code",
      "execution_count": 2,
      "metadata": {
        "id": "VV71sOqhNT8k"
      },
      "outputs": [],
      "source": [
        "url = 'https://raw.githubusercontent.com/kalilurrahman/MasterCardStockData/main/Mastercard_stock_history.csv'\n",
        "\n",
        "mastercard_stock_history = pd.read_csv(url)\n",
        "\n",
        "np.random.seed(0)"
      ]
    },
    {
      "cell_type": "markdown",
      "metadata": {
        "id": "D9836bsslRZ6"
      },
      "source": [
        "Первый взгляд на датафрейм, знакомимся с данным, смотрим нет ли уже вначале пропусков или еще каких проблем с данными.\n",
        "\n",
        "На первый взгляд, все нормально."
      ]
    },
    {
      "cell_type": "code",
      "execution_count": 3,
      "metadata": {
        "colab": {
          "base_uri": "https://localhost:8080/",
          "height": 206
        },
        "id": "JjQIPwneQzkX",
        "outputId": "58451fdc-5a0e-4430-cd84-17d6ff897935"
      },
      "outputs": [
        {
          "data": {
            "text/html": [
              "<div>\n",
              "<style scoped>\n",
              "    .dataframe tbody tr th:only-of-type {\n",
              "        vertical-align: middle;\n",
              "    }\n",
              "\n",
              "    .dataframe tbody tr th {\n",
              "        vertical-align: top;\n",
              "    }\n",
              "\n",
              "    .dataframe thead th {\n",
              "        text-align: right;\n",
              "    }\n",
              "</style>\n",
              "<table border=\"1\" class=\"dataframe\">\n",
              "  <thead>\n",
              "    <tr style=\"text-align: right;\">\n",
              "      <th></th>\n",
              "      <th>Date</th>\n",
              "      <th>Open</th>\n",
              "      <th>High</th>\n",
              "      <th>Low</th>\n",
              "      <th>Close</th>\n",
              "      <th>Volume</th>\n",
              "      <th>Dividends</th>\n",
              "      <th>Stock Splits</th>\n",
              "    </tr>\n",
              "  </thead>\n",
              "  <tbody>\n",
              "    <tr>\n",
              "      <th>0</th>\n",
              "      <td>2006-05-25</td>\n",
              "      <td>3.748967</td>\n",
              "      <td>4.283869</td>\n",
              "      <td>3.739664</td>\n",
              "      <td>4.279217</td>\n",
              "      <td>395343000</td>\n",
              "      <td>0.0</td>\n",
              "      <td>0.0</td>\n",
              "    </tr>\n",
              "    <tr>\n",
              "      <th>1</th>\n",
              "      <td>2006-05-26</td>\n",
              "      <td>4.307126</td>\n",
              "      <td>4.348058</td>\n",
              "      <td>4.103398</td>\n",
              "      <td>4.179680</td>\n",
              "      <td>103044000</td>\n",
              "      <td>0.0</td>\n",
              "      <td>0.0</td>\n",
              "    </tr>\n",
              "    <tr>\n",
              "      <th>2</th>\n",
              "      <td>2006-05-30</td>\n",
              "      <td>4.183400</td>\n",
              "      <td>4.184330</td>\n",
              "      <td>3.986184</td>\n",
              "      <td>4.093164</td>\n",
              "      <td>49898000</td>\n",
              "      <td>0.0</td>\n",
              "      <td>0.0</td>\n",
              "    </tr>\n",
              "    <tr>\n",
              "      <th>3</th>\n",
              "      <td>2006-05-31</td>\n",
              "      <td>4.125723</td>\n",
              "      <td>4.219679</td>\n",
              "      <td>4.125723</td>\n",
              "      <td>4.180608</td>\n",
              "      <td>30002000</td>\n",
              "      <td>0.0</td>\n",
              "      <td>0.0</td>\n",
              "    </tr>\n",
              "    <tr>\n",
              "      <th>4</th>\n",
              "      <td>2006-06-01</td>\n",
              "      <td>4.179678</td>\n",
              "      <td>4.474572</td>\n",
              "      <td>4.176887</td>\n",
              "      <td>4.419686</td>\n",
              "      <td>62344000</td>\n",
              "      <td>0.0</td>\n",
              "      <td>0.0</td>\n",
              "    </tr>\n",
              "  </tbody>\n",
              "</table>\n",
              "</div>"
            ],
            "text/plain": [
              "         Date      Open      High       Low     Close     Volume  Dividends  \\\n",
              "0  2006-05-25  3.748967  4.283869  3.739664  4.279217  395343000        0.0   \n",
              "1  2006-05-26  4.307126  4.348058  4.103398  4.179680  103044000        0.0   \n",
              "2  2006-05-30  4.183400  4.184330  3.986184  4.093164   49898000        0.0   \n",
              "3  2006-05-31  4.125723  4.219679  4.125723  4.180608   30002000        0.0   \n",
              "4  2006-06-01  4.179678  4.474572  4.176887  4.419686   62344000        0.0   \n",
              "\n",
              "   Stock Splits  \n",
              "0           0.0  \n",
              "1           0.0  \n",
              "2           0.0  \n",
              "3           0.0  \n",
              "4           0.0  "
            ]
          },
          "execution_count": 3,
          "metadata": {},
          "output_type": "execute_result"
        }
      ],
      "source": [
        "mastercard_stock_history.head()"
      ]
    },
    {
      "cell_type": "code",
      "execution_count": 4,
      "metadata": {
        "colab": {
          "base_uri": "https://localhost:8080/",
          "height": 206
        },
        "id": "5NoLYpbh18E3",
        "outputId": "8c0c0f2c-cf40-4ced-a8e9-b8020ab122af"
      },
      "outputs": [
        {
          "data": {
            "text/html": [
              "<div>\n",
              "<style scoped>\n",
              "    .dataframe tbody tr th:only-of-type {\n",
              "        vertical-align: middle;\n",
              "    }\n",
              "\n",
              "    .dataframe tbody tr th {\n",
              "        vertical-align: top;\n",
              "    }\n",
              "\n",
              "    .dataframe thead th {\n",
              "        text-align: right;\n",
              "    }\n",
              "</style>\n",
              "<table border=\"1\" class=\"dataframe\">\n",
              "  <thead>\n",
              "    <tr style=\"text-align: right;\">\n",
              "      <th></th>\n",
              "      <th>Date</th>\n",
              "      <th>Open</th>\n",
              "      <th>High</th>\n",
              "      <th>Low</th>\n",
              "      <th>Close</th>\n",
              "      <th>Volume</th>\n",
              "      <th>Dividends</th>\n",
              "      <th>Stock Splits</th>\n",
              "    </tr>\n",
              "  </thead>\n",
              "  <tbody>\n",
              "    <tr>\n",
              "      <th>3867</th>\n",
              "      <td>2021-10-05</td>\n",
              "      <td>347.121403</td>\n",
              "      <td>348.130138</td>\n",
              "      <td>342.497241</td>\n",
              "      <td>342.776886</td>\n",
              "      <td>4724100</td>\n",
              "      <td>0.00</td>\n",
              "      <td>0.0</td>\n",
              "    </tr>\n",
              "    <tr>\n",
              "      <th>3868</th>\n",
              "      <td>2021-10-06</td>\n",
              "      <td>339.580960</td>\n",
              "      <td>348.439763</td>\n",
              "      <td>338.682072</td>\n",
              "      <td>348.250000</td>\n",
              "      <td>3712000</td>\n",
              "      <td>0.00</td>\n",
              "      <td>0.0</td>\n",
              "    </tr>\n",
              "    <tr>\n",
              "      <th>3869</th>\n",
              "      <td>2021-10-07</td>\n",
              "      <td>349.000000</td>\n",
              "      <td>357.899994</td>\n",
              "      <td>349.000000</td>\n",
              "      <td>353.910004</td>\n",
              "      <td>3209200</td>\n",
              "      <td>0.44</td>\n",
              "      <td>0.0</td>\n",
              "    </tr>\n",
              "    <tr>\n",
              "      <th>3870</th>\n",
              "      <td>2021-10-08</td>\n",
              "      <td>356.000000</td>\n",
              "      <td>360.369995</td>\n",
              "      <td>354.209991</td>\n",
              "      <td>354.959991</td>\n",
              "      <td>2336700</td>\n",
              "      <td>0.00</td>\n",
              "      <td>0.0</td>\n",
              "    </tr>\n",
              "    <tr>\n",
              "      <th>3871</th>\n",
              "      <td>2021-10-11</td>\n",
              "      <td>353.950012</td>\n",
              "      <td>354.880005</td>\n",
              "      <td>346.899994</td>\n",
              "      <td>347.149994</td>\n",
              "      <td>2766800</td>\n",
              "      <td>0.00</td>\n",
              "      <td>0.0</td>\n",
              "    </tr>\n",
              "  </tbody>\n",
              "</table>\n",
              "</div>"
            ],
            "text/plain": [
              "            Date        Open        High         Low       Close   Volume  \\\n",
              "3867  2021-10-05  347.121403  348.130138  342.497241  342.776886  4724100   \n",
              "3868  2021-10-06  339.580960  348.439763  338.682072  348.250000  3712000   \n",
              "3869  2021-10-07  349.000000  357.899994  349.000000  353.910004  3209200   \n",
              "3870  2021-10-08  356.000000  360.369995  354.209991  354.959991  2336700   \n",
              "3871  2021-10-11  353.950012  354.880005  346.899994  347.149994  2766800   \n",
              "\n",
              "      Dividends  Stock Splits  \n",
              "3867       0.00           0.0  \n",
              "3868       0.00           0.0  \n",
              "3869       0.44           0.0  \n",
              "3870       0.00           0.0  \n",
              "3871       0.00           0.0  "
            ]
          },
          "execution_count": 4,
          "metadata": {},
          "output_type": "execute_result"
        }
      ],
      "source": [
        "mastercard_stock_history.tail()"
      ]
    },
    {
      "cell_type": "markdown",
      "metadata": {
        "id": "WXhWcr7GlymN"
      },
      "source": [
        "Проверка на наличие пустых ячеек"
      ]
    },
    {
      "cell_type": "code",
      "execution_count": 5,
      "metadata": {
        "colab": {
          "base_uri": "https://localhost:8080/"
        },
        "id": "mw4I6S8wQ7hL",
        "outputId": "323cdd95-abc4-4d9d-cfff-a116b521d029"
      },
      "outputs": [
        {
          "data": {
            "text/plain": [
              "Date            0\n",
              "Open            0\n",
              "High            0\n",
              "Low             0\n",
              "Close           0\n",
              "Volume          0\n",
              "Dividends       0\n",
              "Stock Splits    0\n",
              "dtype: int64"
            ]
          },
          "execution_count": 5,
          "metadata": {},
          "output_type": "execute_result"
        }
      ],
      "source": [
        "mastercard_stock_history.isna().sum()"
      ]
    },
    {
      "cell_type": "markdown",
      "metadata": {
        "id": "VKNWHlKhl5eb"
      },
      "source": [
        "Общее описание датафрейма"
      ]
    },
    {
      "cell_type": "code",
      "execution_count": 6,
      "metadata": {
        "colab": {
          "base_uri": "https://localhost:8080/",
          "height": 300
        },
        "id": "8oT6u-cdRGw0",
        "outputId": "3f23ae24-6afd-4db8-d5ab-d1b2bddd4544"
      },
      "outputs": [
        {
          "data": {
            "text/html": [
              "<div>\n",
              "<style scoped>\n",
              "    .dataframe tbody tr th:only-of-type {\n",
              "        vertical-align: middle;\n",
              "    }\n",
              "\n",
              "    .dataframe tbody tr th {\n",
              "        vertical-align: top;\n",
              "    }\n",
              "\n",
              "    .dataframe thead th {\n",
              "        text-align: right;\n",
              "    }\n",
              "</style>\n",
              "<table border=\"1\" class=\"dataframe\">\n",
              "  <thead>\n",
              "    <tr style=\"text-align: right;\">\n",
              "      <th></th>\n",
              "      <th>Open</th>\n",
              "      <th>High</th>\n",
              "      <th>Low</th>\n",
              "      <th>Close</th>\n",
              "      <th>Volume</th>\n",
              "      <th>Dividends</th>\n",
              "      <th>Stock Splits</th>\n",
              "    </tr>\n",
              "  </thead>\n",
              "  <tbody>\n",
              "    <tr>\n",
              "      <th>count</th>\n",
              "      <td>3872.000000</td>\n",
              "      <td>3872.000000</td>\n",
              "      <td>3872.000000</td>\n",
              "      <td>3872.000000</td>\n",
              "      <td>3.872000e+03</td>\n",
              "      <td>3872.000000</td>\n",
              "      <td>3872.000000</td>\n",
              "    </tr>\n",
              "    <tr>\n",
              "      <th>mean</th>\n",
              "      <td>104.896814</td>\n",
              "      <td>105.956054</td>\n",
              "      <td>103.769349</td>\n",
              "      <td>104.882714</td>\n",
              "      <td>1.232250e+07</td>\n",
              "      <td>0.002329</td>\n",
              "      <td>0.002583</td>\n",
              "    </tr>\n",
              "    <tr>\n",
              "      <th>std</th>\n",
              "      <td>106.245511</td>\n",
              "      <td>107.303589</td>\n",
              "      <td>105.050064</td>\n",
              "      <td>106.168693</td>\n",
              "      <td>1.759665e+07</td>\n",
              "      <td>0.025851</td>\n",
              "      <td>0.160706</td>\n",
              "    </tr>\n",
              "    <tr>\n",
              "      <th>min</th>\n",
              "      <td>3.748967</td>\n",
              "      <td>4.102467</td>\n",
              "      <td>3.739664</td>\n",
              "      <td>4.083861</td>\n",
              "      <td>6.411000e+05</td>\n",
              "      <td>0.000000</td>\n",
              "      <td>0.000000</td>\n",
              "    </tr>\n",
              "    <tr>\n",
              "      <th>25%</th>\n",
              "      <td>22.347203</td>\n",
              "      <td>22.637997</td>\n",
              "      <td>22.034458</td>\n",
              "      <td>22.300391</td>\n",
              "      <td>3.529475e+06</td>\n",
              "      <td>0.000000</td>\n",
              "      <td>0.000000</td>\n",
              "    </tr>\n",
              "    <tr>\n",
              "      <th>50%</th>\n",
              "      <td>70.810079</td>\n",
              "      <td>71.375896</td>\n",
              "      <td>70.224002</td>\n",
              "      <td>70.856083</td>\n",
              "      <td>5.891750e+06</td>\n",
              "      <td>0.000000</td>\n",
              "      <td>0.000000</td>\n",
              "    </tr>\n",
              "    <tr>\n",
              "      <th>75%</th>\n",
              "      <td>147.688448</td>\n",
              "      <td>148.645373</td>\n",
              "      <td>146.822013</td>\n",
              "      <td>147.688438</td>\n",
              "      <td>1.319775e+07</td>\n",
              "      <td>0.000000</td>\n",
              "      <td>0.000000</td>\n",
              "    </tr>\n",
              "    <tr>\n",
              "      <th>max</th>\n",
              "      <td>392.653890</td>\n",
              "      <td>400.521479</td>\n",
              "      <td>389.747812</td>\n",
              "      <td>394.685730</td>\n",
              "      <td>3.953430e+08</td>\n",
              "      <td>0.440000</td>\n",
              "      <td>10.000000</td>\n",
              "    </tr>\n",
              "  </tbody>\n",
              "</table>\n",
              "</div>"
            ],
            "text/plain": [
              "              Open         High          Low        Close        Volume  \\\n",
              "count  3872.000000  3872.000000  3872.000000  3872.000000  3.872000e+03   \n",
              "mean    104.896814   105.956054   103.769349   104.882714  1.232250e+07   \n",
              "std     106.245511   107.303589   105.050064   106.168693  1.759665e+07   \n",
              "min       3.748967     4.102467     3.739664     4.083861  6.411000e+05   \n",
              "25%      22.347203    22.637997    22.034458    22.300391  3.529475e+06   \n",
              "50%      70.810079    71.375896    70.224002    70.856083  5.891750e+06   \n",
              "75%     147.688448   148.645373   146.822013   147.688438  1.319775e+07   \n",
              "max     392.653890   400.521479   389.747812   394.685730  3.953430e+08   \n",
              "\n",
              "         Dividends  Stock Splits  \n",
              "count  3872.000000   3872.000000  \n",
              "mean      0.002329      0.002583  \n",
              "std       0.025851      0.160706  \n",
              "min       0.000000      0.000000  \n",
              "25%       0.000000      0.000000  \n",
              "50%       0.000000      0.000000  \n",
              "75%       0.000000      0.000000  \n",
              "max       0.440000     10.000000  "
            ]
          },
          "execution_count": 6,
          "metadata": {},
          "output_type": "execute_result"
        }
      ],
      "source": [
        "mastercard_stock_history.describe()"
      ]
    },
    {
      "cell_type": "markdown",
      "metadata": {
        "id": "L-rOaaLomt6J"
      },
      "source": [
        "Переводим все названия колонок в нижний регистр для удобства работы с ними, так же заменяем пробелы нижним подчеркиванием"
      ]
    },
    {
      "cell_type": "code",
      "execution_count": 7,
      "metadata": {
        "id": "Os98-PIBdfSe"
      },
      "outputs": [],
      "source": [
        "mastercard_stock_history.columns = mastercard_stock_history.columns.str.lower().str.replace(\" \", \"_\")"
      ]
    },
    {
      "cell_type": "markdown",
      "metadata": {
        "id": "Aqjb2fYEm0UY"
      },
      "source": [
        "Перепроверям переведены ли названия колонок нашего датафрейма в нижний регистр и заменены ли пробелы"
      ]
    },
    {
      "cell_type": "code",
      "execution_count": 8,
      "metadata": {
        "colab": {
          "base_uri": "https://localhost:8080/",
          "height": 206
        },
        "id": "oxIGWDYzdaV7",
        "outputId": "5579e83b-e113-48c0-ca8d-4f1c51024350"
      },
      "outputs": [
        {
          "data": {
            "text/html": [
              "<div>\n",
              "<style scoped>\n",
              "    .dataframe tbody tr th:only-of-type {\n",
              "        vertical-align: middle;\n",
              "    }\n",
              "\n",
              "    .dataframe tbody tr th {\n",
              "        vertical-align: top;\n",
              "    }\n",
              "\n",
              "    .dataframe thead th {\n",
              "        text-align: right;\n",
              "    }\n",
              "</style>\n",
              "<table border=\"1\" class=\"dataframe\">\n",
              "  <thead>\n",
              "    <tr style=\"text-align: right;\">\n",
              "      <th></th>\n",
              "      <th>date</th>\n",
              "      <th>open</th>\n",
              "      <th>high</th>\n",
              "      <th>low</th>\n",
              "      <th>close</th>\n",
              "      <th>volume</th>\n",
              "      <th>dividends</th>\n",
              "      <th>stock_splits</th>\n",
              "    </tr>\n",
              "  </thead>\n",
              "  <tbody>\n",
              "    <tr>\n",
              "      <th>0</th>\n",
              "      <td>2006-05-25</td>\n",
              "      <td>3.748967</td>\n",
              "      <td>4.283869</td>\n",
              "      <td>3.739664</td>\n",
              "      <td>4.279217</td>\n",
              "      <td>395343000</td>\n",
              "      <td>0.0</td>\n",
              "      <td>0.0</td>\n",
              "    </tr>\n",
              "    <tr>\n",
              "      <th>1</th>\n",
              "      <td>2006-05-26</td>\n",
              "      <td>4.307126</td>\n",
              "      <td>4.348058</td>\n",
              "      <td>4.103398</td>\n",
              "      <td>4.179680</td>\n",
              "      <td>103044000</td>\n",
              "      <td>0.0</td>\n",
              "      <td>0.0</td>\n",
              "    </tr>\n",
              "    <tr>\n",
              "      <th>2</th>\n",
              "      <td>2006-05-30</td>\n",
              "      <td>4.183400</td>\n",
              "      <td>4.184330</td>\n",
              "      <td>3.986184</td>\n",
              "      <td>4.093164</td>\n",
              "      <td>49898000</td>\n",
              "      <td>0.0</td>\n",
              "      <td>0.0</td>\n",
              "    </tr>\n",
              "    <tr>\n",
              "      <th>3</th>\n",
              "      <td>2006-05-31</td>\n",
              "      <td>4.125723</td>\n",
              "      <td>4.219679</td>\n",
              "      <td>4.125723</td>\n",
              "      <td>4.180608</td>\n",
              "      <td>30002000</td>\n",
              "      <td>0.0</td>\n",
              "      <td>0.0</td>\n",
              "    </tr>\n",
              "    <tr>\n",
              "      <th>4</th>\n",
              "      <td>2006-06-01</td>\n",
              "      <td>4.179678</td>\n",
              "      <td>4.474572</td>\n",
              "      <td>4.176887</td>\n",
              "      <td>4.419686</td>\n",
              "      <td>62344000</td>\n",
              "      <td>0.0</td>\n",
              "      <td>0.0</td>\n",
              "    </tr>\n",
              "  </tbody>\n",
              "</table>\n",
              "</div>"
            ],
            "text/plain": [
              "         date      open      high       low     close     volume  dividends  \\\n",
              "0  2006-05-25  3.748967  4.283869  3.739664  4.279217  395343000        0.0   \n",
              "1  2006-05-26  4.307126  4.348058  4.103398  4.179680  103044000        0.0   \n",
              "2  2006-05-30  4.183400  4.184330  3.986184  4.093164   49898000        0.0   \n",
              "3  2006-05-31  4.125723  4.219679  4.125723  4.180608   30002000        0.0   \n",
              "4  2006-06-01  4.179678  4.474572  4.176887  4.419686   62344000        0.0   \n",
              "\n",
              "   stock_splits  \n",
              "0           0.0  \n",
              "1           0.0  \n",
              "2           0.0  \n",
              "3           0.0  \n",
              "4           0.0  "
            ]
          },
          "execution_count": 8,
          "metadata": {},
          "output_type": "execute_result"
        }
      ],
      "source": [
        "mastercard_stock_history.head()"
      ]
    },
    {
      "cell_type": "markdown",
      "metadata": {
        "id": "uHsfVv9UmAem"
      },
      "source": [
        "Проверка типа данных в датафрейме"
      ]
    },
    {
      "cell_type": "code",
      "execution_count": 9,
      "metadata": {
        "colab": {
          "base_uri": "https://localhost:8080/"
        },
        "id": "axR3l8WJSjXv",
        "outputId": "0ecc1a27-f8dd-4e5f-fd6a-90face68ed0b"
      },
      "outputs": [
        {
          "name": "stdout",
          "output_type": "stream",
          "text": [
            "<class 'pandas.core.frame.DataFrame'>\n",
            "RangeIndex: 3872 entries, 0 to 3871\n",
            "Data columns (total 8 columns):\n",
            " #   Column        Non-Null Count  Dtype  \n",
            "---  ------        --------------  -----  \n",
            " 0   date          3872 non-null   object \n",
            " 1   open          3872 non-null   float64\n",
            " 2   high          3872 non-null   float64\n",
            " 3   low           3872 non-null   float64\n",
            " 4   close         3872 non-null   float64\n",
            " 5   volume        3872 non-null   int64  \n",
            " 6   dividends     3872 non-null   float64\n",
            " 7   stock_splits  3872 non-null   float64\n",
            "dtypes: float64(6), int64(1), object(1)\n",
            "memory usage: 242.1+ KB\n"
          ]
        }
      ],
      "source": [
        "mastercard_stock_history.info()"
      ]
    },
    {
      "cell_type": "markdown",
      "metadata": {
        "id": "Yah8OCctzCCN"
      },
      "source": [
        "Проверяем есть ли в колонке dividends что-то кроме 0, и видим что да, есть, хотя и 0 самое большое колличество. Думаю пока можно оставить эту колонку."
      ]
    },
    {
      "cell_type": "code",
      "execution_count": 10,
      "metadata": {
        "colab": {
          "base_uri": "https://localhost:8080/"
        },
        "id": "z1TAkgZXxCKy",
        "outputId": "233da741-e34f-4a90-e359-05b9a2866557"
      },
      "outputs": [
        {
          "data": {
            "text/plain": [
              "dividends\n",
              "0.009       2\n",
              "0.060       3\n",
              "0.030       4\n",
              "0.110       4\n",
              "0.160       4\n",
              "0.190       4\n",
              "0.220       4\n",
              "0.250       4\n",
              "0.330       4\n",
              "0.400       4\n",
              "0.440       4\n",
              "0.015      20\n",
              "0.000    3811\n",
              "Name: count, dtype: int64"
            ]
          },
          "execution_count": 10,
          "metadata": {},
          "output_type": "execute_result"
        }
      ],
      "source": [
        "mastercard_stock_history.dividends.value_counts(ascending=True)"
      ]
    },
    {
      "cell_type": "markdown",
      "metadata": {
        "id": "iS-aIwiYzTyn"
      },
      "source": [
        "Проводим такую же проверку с колонкой stock_splits. Всего одна строка отличяется. Я считаю, что эту колонку можно смело удалять из датафрейма уже сейчас вместе с date и идти дальше."
      ]
    },
    {
      "cell_type": "code",
      "execution_count": 11,
      "metadata": {
        "colab": {
          "base_uri": "https://localhost:8080/"
        },
        "id": "p2pT1r62xGQc",
        "outputId": "ca6976cf-2408-44f3-a592-a7f733e2f56b"
      },
      "outputs": [
        {
          "data": {
            "text/plain": [
              "stock_splits\n",
              "10.0       1\n",
              "0.0     3871\n",
              "Name: count, dtype: int64"
            ]
          },
          "execution_count": 11,
          "metadata": {},
          "output_type": "execute_result"
        }
      ],
      "source": [
        "mastercard_stock_history.stock_splits.value_counts(ascending=True)"
      ]
    },
    {
      "cell_type": "markdown",
      "metadata": {
        "id": "QfDzBMSE0QLT"
      },
      "source": [
        "Избавляемя от колонок stock_splits и date"
      ]
    },
    {
      "cell_type": "code",
      "execution_count": 12,
      "metadata": {
        "colab": {
          "base_uri": "https://localhost:8080/",
          "height": 206
        },
        "id": "nRs8uZdyz7_k",
        "outputId": "9d2299b0-3e74-469a-d9ac-6279cdab5ef2"
      },
      "outputs": [
        {
          "data": {
            "text/html": [
              "<div>\n",
              "<style scoped>\n",
              "    .dataframe tbody tr th:only-of-type {\n",
              "        vertical-align: middle;\n",
              "    }\n",
              "\n",
              "    .dataframe tbody tr th {\n",
              "        vertical-align: top;\n",
              "    }\n",
              "\n",
              "    .dataframe thead th {\n",
              "        text-align: right;\n",
              "    }\n",
              "</style>\n",
              "<table border=\"1\" class=\"dataframe\">\n",
              "  <thead>\n",
              "    <tr style=\"text-align: right;\">\n",
              "      <th></th>\n",
              "      <th>open</th>\n",
              "      <th>high</th>\n",
              "      <th>low</th>\n",
              "      <th>close</th>\n",
              "      <th>volume</th>\n",
              "      <th>dividends</th>\n",
              "    </tr>\n",
              "  </thead>\n",
              "  <tbody>\n",
              "    <tr>\n",
              "      <th>0</th>\n",
              "      <td>3.748967</td>\n",
              "      <td>4.283869</td>\n",
              "      <td>3.739664</td>\n",
              "      <td>4.279217</td>\n",
              "      <td>395343000</td>\n",
              "      <td>0.0</td>\n",
              "    </tr>\n",
              "    <tr>\n",
              "      <th>1</th>\n",
              "      <td>4.307126</td>\n",
              "      <td>4.348058</td>\n",
              "      <td>4.103398</td>\n",
              "      <td>4.179680</td>\n",
              "      <td>103044000</td>\n",
              "      <td>0.0</td>\n",
              "    </tr>\n",
              "    <tr>\n",
              "      <th>2</th>\n",
              "      <td>4.183400</td>\n",
              "      <td>4.184330</td>\n",
              "      <td>3.986184</td>\n",
              "      <td>4.093164</td>\n",
              "      <td>49898000</td>\n",
              "      <td>0.0</td>\n",
              "    </tr>\n",
              "    <tr>\n",
              "      <th>3</th>\n",
              "      <td>4.125723</td>\n",
              "      <td>4.219679</td>\n",
              "      <td>4.125723</td>\n",
              "      <td>4.180608</td>\n",
              "      <td>30002000</td>\n",
              "      <td>0.0</td>\n",
              "    </tr>\n",
              "    <tr>\n",
              "      <th>4</th>\n",
              "      <td>4.179678</td>\n",
              "      <td>4.474572</td>\n",
              "      <td>4.176887</td>\n",
              "      <td>4.419686</td>\n",
              "      <td>62344000</td>\n",
              "      <td>0.0</td>\n",
              "    </tr>\n",
              "  </tbody>\n",
              "</table>\n",
              "</div>"
            ],
            "text/plain": [
              "       open      high       low     close     volume  dividends\n",
              "0  3.748967  4.283869  3.739664  4.279217  395343000        0.0\n",
              "1  4.307126  4.348058  4.103398  4.179680  103044000        0.0\n",
              "2  4.183400  4.184330  3.986184  4.093164   49898000        0.0\n",
              "3  4.125723  4.219679  4.125723  4.180608   30002000        0.0\n",
              "4  4.179678  4.474572  4.176887  4.419686   62344000        0.0"
            ]
          },
          "execution_count": 12,
          "metadata": {},
          "output_type": "execute_result"
        }
      ],
      "source": [
        "mastercard_stock_history.drop(['stock_splits', 'date'], axis=1, inplace=True)\n",
        "mastercard_stock_history.head()"
      ]
    },
    {
      "cell_type": "markdown",
      "metadata": {
        "id": "qEwJqUw10esg"
      },
      "source": [
        "Прологарифмируем сразу все колонки, так как в них довольно большая разница в цифрах."
      ]
    },
    {
      "cell_type": "code",
      "execution_count": 13,
      "metadata": {
        "colab": {
          "base_uri": "https://localhost:8080/",
          "height": 300
        },
        "id": "27jbQCok0qGO",
        "outputId": "015d6315-ea29-44ff-9ffb-e838a693f499"
      },
      "outputs": [
        {
          "data": {
            "text/html": [
              "<div>\n",
              "<style scoped>\n",
              "    .dataframe tbody tr th:only-of-type {\n",
              "        vertical-align: middle;\n",
              "    }\n",
              "\n",
              "    .dataframe tbody tr th {\n",
              "        vertical-align: top;\n",
              "    }\n",
              "\n",
              "    .dataframe thead th {\n",
              "        text-align: right;\n",
              "    }\n",
              "</style>\n",
              "<table border=\"1\" class=\"dataframe\">\n",
              "  <thead>\n",
              "    <tr style=\"text-align: right;\">\n",
              "      <th></th>\n",
              "      <th>open</th>\n",
              "      <th>high</th>\n",
              "      <th>low</th>\n",
              "      <th>close</th>\n",
              "      <th>volume</th>\n",
              "      <th>dividends</th>\n",
              "    </tr>\n",
              "  </thead>\n",
              "  <tbody>\n",
              "    <tr>\n",
              "      <th>count</th>\n",
              "      <td>3872.000000</td>\n",
              "      <td>3872.000000</td>\n",
              "      <td>3872.000000</td>\n",
              "      <td>3872.000000</td>\n",
              "      <td>3872.000000</td>\n",
              "      <td>3872.000000</td>\n",
              "    </tr>\n",
              "    <tr>\n",
              "      <th>mean</th>\n",
              "      <td>4.113880</td>\n",
              "      <td>4.125734</td>\n",
              "      <td>4.101821</td>\n",
              "      <td>4.114257</td>\n",
              "      <td>15.816421</td>\n",
              "      <td>0.002053</td>\n",
              "    </tr>\n",
              "    <tr>\n",
              "      <th>std</th>\n",
              "      <td>1.107572</td>\n",
              "      <td>1.104450</td>\n",
              "      <td>1.110110</td>\n",
              "      <td>1.106969</td>\n",
              "      <td>0.925832</td>\n",
              "      <td>0.022283</td>\n",
              "    </tr>\n",
              "    <tr>\n",
              "      <th>min</th>\n",
              "      <td>1.557927</td>\n",
              "      <td>1.629724</td>\n",
              "      <td>1.555966</td>\n",
              "      <td>1.626071</td>\n",
              "      <td>13.370942</td>\n",
              "      <td>0.000000</td>\n",
              "    </tr>\n",
              "    <tr>\n",
              "      <th>25%</th>\n",
              "      <td>3.150477</td>\n",
              "      <td>3.162855</td>\n",
              "      <td>3.136991</td>\n",
              "      <td>3.148470</td>\n",
              "      <td>15.076660</td>\n",
              "      <td>0.000000</td>\n",
              "    </tr>\n",
              "    <tr>\n",
              "      <th>50%</th>\n",
              "      <td>4.274025</td>\n",
              "      <td>4.281873</td>\n",
              "      <td>4.265830</td>\n",
              "      <td>4.274665</td>\n",
              "      <td>15.589064</td>\n",
              "      <td>0.000000</td>\n",
              "    </tr>\n",
              "    <tr>\n",
              "      <th>75%</th>\n",
              "      <td>5.001853</td>\n",
              "      <td>5.008268</td>\n",
              "      <td>4.996009</td>\n",
              "      <td>5.001853</td>\n",
              "      <td>16.395557</td>\n",
              "      <td>0.000000</td>\n",
              "    </tr>\n",
              "    <tr>\n",
              "      <th>max</th>\n",
              "      <td>5.975472</td>\n",
              "      <td>5.995261</td>\n",
              "      <td>5.968062</td>\n",
              "      <td>5.980620</td>\n",
              "      <td>19.795264</td>\n",
              "      <td>0.364643</td>\n",
              "    </tr>\n",
              "  </tbody>\n",
              "</table>\n",
              "</div>"
            ],
            "text/plain": [
              "              open         high          low        close       volume  \\\n",
              "count  3872.000000  3872.000000  3872.000000  3872.000000  3872.000000   \n",
              "mean      4.113880     4.125734     4.101821     4.114257    15.816421   \n",
              "std       1.107572     1.104450     1.110110     1.106969     0.925832   \n",
              "min       1.557927     1.629724     1.555966     1.626071    13.370942   \n",
              "25%       3.150477     3.162855     3.136991     3.148470    15.076660   \n",
              "50%       4.274025     4.281873     4.265830     4.274665    15.589064   \n",
              "75%       5.001853     5.008268     4.996009     5.001853    16.395557   \n",
              "max       5.975472     5.995261     5.968062     5.980620    19.795264   \n",
              "\n",
              "         dividends  \n",
              "count  3872.000000  \n",
              "mean      0.002053  \n",
              "std       0.022283  \n",
              "min       0.000000  \n",
              "25%       0.000000  \n",
              "50%       0.000000  \n",
              "75%       0.000000  \n",
              "max       0.364643  "
            ]
          },
          "execution_count": 13,
          "metadata": {},
          "output_type": "execute_result"
        }
      ],
      "source": [
        "mastercard_stock_history = np.log1p(mastercard_stock_history)\n",
        "\n",
        "mastercard_stock_history.describe()"
      ]
    },
    {
      "cell_type": "markdown",
      "metadata": {
        "id": "w83l70jK1KmX"
      },
      "source": [
        "Дупликатов 0, можно двигаться дальше."
      ]
    },
    {
      "cell_type": "code",
      "execution_count": 14,
      "metadata": {
        "colab": {
          "base_uri": "https://localhost:8080/"
        },
        "id": "gXhNAzoP1KE9",
        "outputId": "7e683ef5-29d5-4a00-a537-a1380853197f"
      },
      "outputs": [
        {
          "data": {
            "text/plain": [
              "0"
            ]
          },
          "execution_count": 14,
          "metadata": {},
          "output_type": "execute_result"
        }
      ],
      "source": [
        "mastercard_stock_history.duplicated().sum()"
      ]
    },
    {
      "cell_type": "markdown",
      "metadata": {
        "id": "zBXj3rrK3PGs"
      },
      "source": [
        "Визуализируем распределение данных и их корреляции"
      ]
    },
    {
      "cell_type": "code",
      "execution_count": 15,
      "metadata": {
        "colab": {
          "base_uri": "https://localhost:8080/",
          "height": 452
        },
        "id": "XF_rtV4G11Ef",
        "outputId": "297755f5-a0df-4d83-f1e5-cc017471a2ee"
      },
      "outputs": [
        {
          "data": {
            "text/plain": [
              "<Axes: >"
            ]
          },
          "execution_count": 15,
          "metadata": {},
          "output_type": "execute_result"
        },
        {
          "data": {
            "image/png": "[encoded data removed]",
            "text/plain": [
              "<Figure size 640x480 with 2 Axes>"
            ]
          },
          "metadata": {},
          "output_type": "display_data"
        }
      ],
      "source": [
        "mastercard_stock_history_correlation = mastercard_stock_history.corr()\n",
        "\n",
        "sns.heatmap(mastercard_stock_history_correlation, vmin=-1, vmax=1, annot=True)"
      ]
    },
    {
      "cell_type": "markdown",
      "metadata": {
        "id": "r44-rYtr4Ai3"
      },
      "source": [
        "Смотрим распределение нашей целевой переменной close\n"
      ]
    },
    {
      "cell_type": "code",
      "execution_count": 16,
      "metadata": {
        "colab": {
          "base_uri": "https://localhost:8080/",
          "height": 472
        },
        "id": "P3_ODpBs3NbF",
        "outputId": "c0154277-48cd-4490-a573-79115aeacf36"
      },
      "outputs": [
        {
          "name": "stderr",
          "output_type": "stream",
          "text": [
            "c:\\Users\\Marlen\\anaconda3\\Lib\\site-packages\\seaborn\\_oldcore.py:1119: FutureWarning: use_inf_as_na option is deprecated and will be removed in a future version. Convert inf values to NaN before operating instead.\n",
            "  with pd.option_context('mode.use_inf_as_na', True):\n"
          ]
        },
        {
          "data": {
            "image/png": "[encoded data removed]",
            "text/plain": [
              "<Figure size 640x480 with 1 Axes>"
            ]
          },
          "metadata": {},
          "output_type": "display_data"
        }
      ],
      "source": [
        "sns.histplot(mastercard_stock_history.close, kde=True)\n",
        "\n",
        "plt.title('Распределение целевой переменной close')\n",
        "plt.xlabel('close')\n",
        "plt.ylabel('Частота')\n",
        "\n",
        "plt.show()"
      ]
    },
    {
      "cell_type": "code",
      "execution_count": 17,
      "metadata": {
        "colab": {
          "base_uri": "https://localhost:8080/"
        },
        "id": "BQnCnHc04QWV",
        "outputId": "b5d68d88-7d8d-40ac-8966-4ba8cb0cccc3"
      },
      "outputs": [
        {
          "name": "stdout",
          "output_type": "stream",
          "text": [
            "Скошенность (асимметрия): -0.05755214435181362\n"
          ]
        }
      ],
      "source": [
        "skewness = mastercard_stock_history.close.skew()\n",
        "\n",
        "print(f\"Скошенность (асимметрия): {skewness}\")"
      ]
    },
    {
      "cell_type": "code",
      "execution_count": 18,
      "metadata": {
        "colab": {
          "base_uri": "https://localhost:8080/"
        },
        "id": "6sgo4C8X61YB",
        "outputId": "9e4174d8-c80f-4cb2-ec7c-03e6184e00c0"
      },
      "outputs": [
        {
          "data": {
            "text/plain": [
              "count    3872.000000\n",
              "mean        4.114257\n",
              "std         1.106969\n",
              "min         1.626071\n",
              "25%         3.148470\n",
              "50%         4.274665\n",
              "75%         5.001853\n",
              "max         5.980620\n",
              "Name: close, dtype: float64"
            ]
          },
          "execution_count": 18,
          "metadata": {},
          "output_type": "execute_result"
        }
      ],
      "source": [
        "mastercard_stock_history.close.describe()"
      ]
    },
    {
      "cell_type": "code",
      "execution_count": 19,
      "metadata": {
        "id": "WHXMac0E6U9d"
      },
      "outputs": [],
      "source": [
        "X = mastercard_stock_history.drop('close', axis=1)\n",
        "y = mastercard_stock_history.close"
      ]
    },
    {
      "cell_type": "code",
      "execution_count": 20,
      "metadata": {
        "colab": {
          "base_uri": "https://localhost:8080/",
          "height": 206
        },
        "id": "jcpc9-S_6kqU",
        "outputId": "0da468d4-aefb-46f1-8c2b-476647c44be2"
      },
      "outputs": [
        {
          "data": {
            "text/html": [
              "<div>\n",
              "<style scoped>\n",
              "    .dataframe tbody tr th:only-of-type {\n",
              "        vertical-align: middle;\n",
              "    }\n",
              "\n",
              "    .dataframe tbody tr th {\n",
              "        vertical-align: top;\n",
              "    }\n",
              "\n",
              "    .dataframe thead th {\n",
              "        text-align: right;\n",
              "    }\n",
              "</style>\n",
              "<table border=\"1\" class=\"dataframe\">\n",
              "  <thead>\n",
              "    <tr style=\"text-align: right;\">\n",
              "      <th></th>\n",
              "      <th>open</th>\n",
              "      <th>high</th>\n",
              "      <th>low</th>\n",
              "      <th>volume</th>\n",
              "      <th>dividends</th>\n",
              "    </tr>\n",
              "  </thead>\n",
              "  <tbody>\n",
              "    <tr>\n",
              "      <th>0</th>\n",
              "      <td>1.557927</td>\n",
              "      <td>1.664659</td>\n",
              "      <td>1.555966</td>\n",
              "      <td>19.795264</td>\n",
              "      <td>0.0</td>\n",
              "    </tr>\n",
              "    <tr>\n",
              "      <th>1</th>\n",
              "      <td>1.669050</td>\n",
              "      <td>1.676733</td>\n",
              "      <td>1.629907</td>\n",
              "      <td>18.450667</td>\n",
              "      <td>0.0</td>\n",
              "    </tr>\n",
              "    <tr>\n",
              "      <th>2</th>\n",
              "      <td>1.645461</td>\n",
              "      <td>1.645641</td>\n",
              "      <td>1.606671</td>\n",
              "      <td>17.725491</td>\n",
              "      <td>0.0</td>\n",
              "    </tr>\n",
              "    <tr>\n",
              "      <th>3</th>\n",
              "      <td>1.634272</td>\n",
              "      <td>1.652436</td>\n",
              "      <td>1.634272</td>\n",
              "      <td>17.216775</td>\n",
              "      <td>0.0</td>\n",
              "    </tr>\n",
              "    <tr>\n",
              "      <th>4</th>\n",
              "      <td>1.644743</td>\n",
              "      <td>1.700114</td>\n",
              "      <td>1.644204</td>\n",
              "      <td>17.948178</td>\n",
              "      <td>0.0</td>\n",
              "    </tr>\n",
              "  </tbody>\n",
              "</table>\n",
              "</div>"
            ],
            "text/plain": [
              "       open      high       low     volume  dividends\n",
              "0  1.557927  1.664659  1.555966  19.795264        0.0\n",
              "1  1.669050  1.676733  1.629907  18.450667        0.0\n",
              "2  1.645461  1.645641  1.606671  17.725491        0.0\n",
              "3  1.634272  1.652436  1.634272  17.216775        0.0\n",
              "4  1.644743  1.700114  1.644204  17.948178        0.0"
            ]
          },
          "execution_count": 20,
          "metadata": {},
          "output_type": "execute_result"
        }
      ],
      "source": [
        "X.head()"
      ]
    },
    {
      "cell_type": "code",
      "execution_count": 21,
      "metadata": {
        "colab": {
          "base_uri": "https://localhost:8080/"
        },
        "id": "ll8eXJsO6rqH",
        "outputId": "8dc31958-3f2f-4a7e-862a-c5c97c669714"
      },
      "outputs": [
        {
          "data": {
            "text/plain": [
              "count    3872.000000\n",
              "mean        4.114257\n",
              "std         1.106969\n",
              "min         1.626071\n",
              "25%         3.148470\n",
              "50%         4.274665\n",
              "75%         5.001853\n",
              "max         5.980620\n",
              "Name: close, dtype: float64"
            ]
          },
          "execution_count": 21,
          "metadata": {},
          "output_type": "execute_result"
        }
      ],
      "source": [
        "y.describe()"
      ]
    },
    {
      "cell_type": "markdown",
      "metadata": {
        "id": "V4cRUlPJ7RGT"
      },
      "source": [
        "Обученеи модели"
      ]
    },
    {
      "cell_type": "code",
      "execution_count": 22,
      "metadata": {
        "id": "KH6E-MQA7VBX"
      },
      "outputs": [],
      "source": [
        "from sklearn.model_selection import train_test_split\n",
        "\n",
        "# Разбиваем данные\n",
        "X_train, X_test_val, y_train, y_test_val  = train_test_split(X, y, test_size=0.4, random_state=1)"
      ]
    },
    {
      "cell_type": "code",
      "execution_count": 23,
      "metadata": {
        "id": "brYUIYA77YPY"
      },
      "outputs": [],
      "source": [
        "X_test, X_val, y_test, y_val = train_test_split(X_test_val, y_test_val, test_size=0.5, random_state=1)"
      ]
    },
    {
      "cell_type": "code",
      "execution_count": 24,
      "metadata": {
        "colab": {
          "base_uri": "https://localhost:8080/"
        },
        "id": "m0mSfpoL9H8C",
        "outputId": "9ba999e2-81d4-4a5e-b08a-f135473872fc"
      },
      "outputs": [
        {
          "name": "stdout",
          "output_type": "stream",
          "text": [
            "X_test: 774\n",
            "X_val: 775\n",
            "y_test: 774\n",
            "y_val: 775\n"
          ]
        }
      ],
      "source": [
        "print(f\"X_test: {len(X_test)}\")\n",
        "print(f\"X_val: {len(X_val)}\")\n",
        "print(f\"y_test: {len(y_test)}\")\n",
        "print(f\"y_val: {len(y_val)}\")"
      ]
    },
    {
      "cell_type": "code",
      "execution_count": 25,
      "metadata": {
        "colab": {
          "base_uri": "https://localhost:8080/",
          "height": 74
        },
        "id": "_hQYaFPI7cD8",
        "outputId": "7c9d8687-969e-4fd8-edcd-f1b67067d59e"
      },
      "outputs": [
        {
          "data": {
            "text/html": [
              "<style>#sk-container-id-1 {color: black;background-color: white;}#sk-container-id-1 pre{padding: 0;}#sk-container-id-1 div.sk-toggleable {background-color: white;}#sk-container-id-1 label.sk-toggleable__label {cursor: pointer;display: block;width: 100%;margin-bottom: 0;padding: 0.3em;box-sizing: border-box;text-align: center;}#sk-container-id-1 label.sk-toggleable__label-arrow:before {content: \"▸\";float: left;margin-right: 0.25em;color: #696969;}#sk-container-id-1 label.sk-toggleable__label-arrow:hover:before {color: black;}#sk-container-id-1 div.sk-estimator:hover label.sk-toggleable__label-arrow:before {color: black;}#sk-container-id-1 div.sk-toggleable__content {max-height: 0;max-width: 0;overflow: hidden;text-align: left;background-color: #f0f8ff;}#sk-container-id-1 div.sk-toggleable__content pre {margin: 0.2em;color: black;border-radius: 0.25em;background-color: #f0f8ff;}#sk-container-id-1 input.sk-toggleable__control:checked~div.sk-toggleable__content {max-height: 200px;max-width: 100%;overflow: auto;}#sk-container-id-1 input.sk-toggleable__control:checked~label.sk-toggleable__label-arrow:before {content: \"▾\";}#sk-container-id-1 div.sk-estimator input.sk-toggleable__control:checked~label.sk-toggleable__label {background-color: #d4ebff;}#sk-container-id-1 div.sk-label input.sk-toggleable__control:checked~label.sk-toggleable__label {background-color: #d4ebff;}#sk-container-id-1 input.sk-hidden--visually {border: 0;clip: rect(1px 1px 1px 1px);clip: rect(1px, 1px, 1px, 1px);height: 1px;margin: -1px;overflow: hidden;padding: 0;position: absolute;width: 1px;}#sk-container-id-1 div.sk-estimator {font-family: monospace;background-color: #f0f8ff;border: 1px dotted black;border-radius: 0.25em;box-sizing: border-box;margin-bottom: 0.5em;}#sk-container-id-1 div.sk-estimator:hover {background-color: #d4ebff;}#sk-container-id-1 div.sk-parallel-item::after {content: \"\";width: 100%;border-bottom: 1px solid gray;flex-grow: 1;}#sk-container-id-1 div.sk-label:hover label.sk-toggleable__label {background-color: #d4ebff;}#sk-container-id-1 div.sk-serial::before {content: \"\";position: absolute;border-left: 1px solid gray;box-sizing: border-box;top: 0;bottom: 0;left: 50%;z-index: 0;}#sk-container-id-1 div.sk-serial {display: flex;flex-direction: column;align-items: center;background-color: white;padding-right: 0.2em;padding-left: 0.2em;position: relative;}#sk-container-id-1 div.sk-item {position: relative;z-index: 1;}#sk-container-id-1 div.sk-parallel {display: flex;align-items: stretch;justify-content: center;background-color: white;position: relative;}#sk-container-id-1 div.sk-item::before, #sk-container-id-1 div.sk-parallel-item::before {content: \"\";position: absolute;border-left: 1px solid gray;box-sizing: border-box;top: 0;bottom: 0;left: 50%;z-index: -1;}#sk-container-id-1 div.sk-parallel-item {display: flex;flex-direction: column;z-index: 1;position: relative;background-color: white;}#sk-container-id-1 div.sk-parallel-item:first-child::after {align-self: flex-end;width: 50%;}#sk-container-id-1 div.sk-parallel-item:last-child::after {align-self: flex-start;width: 50%;}#sk-container-id-1 div.sk-parallel-item:only-child::after {width: 0;}#sk-container-id-1 div.sk-dashed-wrapped {border: 1px dashed gray;margin: 0 0.4em 0.5em 0.4em;box-sizing: border-box;padding-bottom: 0.4em;background-color: white;}#sk-container-id-1 div.sk-label label {font-family: monospace;font-weight: bold;display: inline-block;line-height: 1.2em;}#sk-container-id-1 div.sk-label-container {text-align: center;}#sk-container-id-1 div.sk-container {/* jupyter's `normalize.less` sets `[hidden] { display: none; }` but bootstrap.min.css set `[hidden] { display: none !important; }` so we also need the `!important` here to be able to override the default hidden behavior on the sphinx rendered scikit-learn.org. See: https://github.com/scikit-learn/scikit-learn/issues/21755 */display: inline-block !important;position: relative;}#sk-container-id-1 div.sk-text-repr-fallback {display: none;}</style><div id=\"sk-container-id-1\" class=\"sk-top-container\"><div class=\"sk-text-repr-fallback\"><pre>LinearRegression()</pre><b>In a Jupyter environment, please rerun this cell to show the HTML representation or trust the notebook. <br />On GitHub, the HTML representation is unable to render, please try loading this page with nbviewer.org.</b></div><div class=\"sk-container\" hidden><div class=\"sk-item\"><div class=\"sk-estimator sk-toggleable\"><input class=\"sk-toggleable__control sk-hidden--visually\" id=\"sk-estimator-id-1\" type=\"checkbox\" checked><label for=\"sk-estimator-id-1\" class=\"sk-toggleable__label sk-toggleable__label-arrow\">LinearRegression</label><div class=\"sk-toggleable__content\"><pre>LinearRegression()</pre></div></div></div></div></div>"
            ],
            "text/plain": [
              "LinearRegression()"
            ]
          },
          "execution_count": 25,
          "metadata": {},
          "output_type": "execute_result"
        }
      ],
      "source": [
        "from sklearn.linear_model import LinearRegression\n",
        "\n",
        "model = LinearRegression()\n",
        "model.fit(X_train, y_train)"
      ]
    },
    {
      "cell_type": "code",
      "execution_count": 26,
      "metadata": {
        "colab": {
          "base_uri": "https://localhost:8080/"
        },
        "id": "YuD4ANYA7_kh",
        "outputId": "20e886dd-2a9b-4ed8-bc51-2bd3b4f34433"
      },
      "outputs": [
        {
          "data": {
            "text/plain": [
              "0.9999430761780678"
            ]
          },
          "execution_count": 26,
          "metadata": {},
          "output_type": "execute_result"
        }
      ],
      "source": [
        "model.score(X_test, y_test)"
      ]
    },
    {
      "cell_type": "code",
      "execution_count": 27,
      "metadata": {
        "colab": {
          "base_uri": "https://localhost:8080/"
        },
        "id": "N4MQry_R8DXL",
        "outputId": "45bc1367-daba-42ab-a5f2-3e26cd174d7d"
      },
      "outputs": [
        {
          "name": "stdout",
          "output_type": "stream",
          "text": [
            "-- Тестирвоание --\n",
            "Предсказанные данные\n",
            "[3.54899345 5.24436339 4.78320474 3.67573219 4.08951169]\n",
            "\n",
            "Реальные данные\n",
            "[3.54662911 5.24651767 4.78745798 3.68582456 4.08577196]\n",
            "\n",
            "Разница:\n",
            "[ 0.00236434 -0.00215429 -0.00425324 -0.01009237  0.00373973]\n"
          ]
        }
      ],
      "source": [
        "preds_test = model.predict(X_test)\n",
        "\n",
        "print(\"-- Тестирвоание --\")\n",
        "print(\"Предсказанные данные\")\n",
        "print(preds_test[:5])\n",
        "\n",
        "print()\n",
        "print(\"Реальные данные\")\n",
        "print(y_test[:5].values)\n",
        "\n",
        "print()\n",
        "print(\"Разница:\")\n",
        "print(preds_test[:5] - y_test[:5].values)"
      ]
    },
    {
      "cell_type": "code",
      "execution_count": 28,
      "metadata": {
        "colab": {
          "base_uri": "https://localhost:8080/"
        },
        "id": "nbiIiU3u8KbM",
        "outputId": "da91f282-0003-46d2-e480-6ea3f662b6c1"
      },
      "outputs": [
        {
          "name": "stdout",
          "output_type": "stream",
          "text": [
            "-- Валидация --\n",
            "Предсказанные данные\n",
            "[5.85307542 4.00727216 3.2108568  3.82469828 3.3327318 ]\n",
            "\n",
            "Реальные данные\n",
            "[5.84890237 4.00981936 3.21261565 3.82857895 3.33398799]\n",
            "\n",
            "Разница:\n",
            "[ 0.00417305 -0.00254719 -0.00175886 -0.00388067 -0.00125619]\n"
          ]
        }
      ],
      "source": [
        "preds_val = model.predict(X_val)\n",
        "\n",
        "print(\"-- Валидация --\")\n",
        "print(\"Предсказанные данные\")\n",
        "print(preds_val[:5])\n",
        "\n",
        "print()\n",
        "print(\"Реальные данные\")\n",
        "print(y_val[:5].values)\n",
        "\n",
        "print()\n",
        "print(\"Разница:\")\n",
        "print(preds_val[:5] - y_val[:5].values)"
      ]
    },
    {
      "cell_type": "code",
      "execution_count": 29,
      "metadata": {
        "colab": {
          "base_uri": "https://localhost:8080/"
        },
        "id": "JTbGBxe98X9_",
        "outputId": "623be26d-20a6-4b81-ab71-d84dd79793f3"
      },
      "outputs": [
        {
          "name": "stdout",
          "output_type": "stream",
          "text": [
            "-- Работа с тестовыми данными --\n",
            "Среднеквадратичная ошибка = 7.032876835124425e-05\n",
            "Средняя абсолютная ошибка = 0.005512780616052172\n",
            "Коэффициент детерминации = 0.9999430761780678\n"
          ]
        }
      ],
      "source": [
        "from sklearn.metrics import mean_squared_error, mean_absolute_error , r2_score\n",
        "\n",
        "print(\"-- Работа с тестовыми данными --\")\n",
        "print(f\"Среднеквадратичная ошибка = {mean_squared_error(y_test, preds_test)}\")\n",
        "print(f\"Средняя абсолютная ошибка = {mean_absolute_error(y_test, preds_test)}\")\n",
        "print(f\"Коэффициент детерминации = {r2_score(y_test, preds_test)}\")"
      ]
    },
    {
      "cell_type": "code",
      "execution_count": 30,
      "metadata": {
        "colab": {
          "base_uri": "https://localhost:8080/"
        },
        "id": "pZxXwt8l91Fa",
        "outputId": "7a34d774-760d-4baa-e594-e7f3ad2164fe"
      },
      "outputs": [
        {
          "name": "stdout",
          "output_type": "stream",
          "text": [
            "-- Работа с валидационными данными --\n",
            "Среднеквадратичная ошибка = 5.943339897335128e-05\n",
            "Средняя абсолютная ошибка = 0.0055012761233082345\n",
            "Коэффициент детерминации = 0.9999493755605153\n"
          ]
        }
      ],
      "source": [
        "print(\"-- Работа с валидационными данными --\")\n",
        "print(f\"Среднеквадратичная ошибка = {mean_squared_error(y_val, preds_val)}\")\n",
        "print(f\"Средняя абсолютная ошибка = {mean_absolute_error(y_val, preds_val)}\")\n",
        "print(f\"Коэффициент детерминации = {r2_score(y_val, preds_val)}\")"
      ]
    },
    {
      "cell_type": "code",
      "execution_count": 31,
      "metadata": {
        "colab": {
          "base_uri": "https://localhost:8080/",
          "height": 472
        },
        "id": "ODrFVJxz9-NT",
        "outputId": "1f5821a9-5222-4aed-e90c-7287161bef94"
      },
      "outputs": [
        {
          "data": {
            "image/png": "[encoded data removed]",
            "text/plain": [
              "<Figure size 640x480 with 1 Axes>"
            ]
          },
          "metadata": {},
          "output_type": "display_data"
        }
      ],
      "source": [
        "sns.regplot(x=preds_test, y=y_test)\n",
        "\n",
        "plt.title(\"Оценка модели по тестовым данным\")\n",
        "plt.xlabel(\"Предсказанная цена\")\n",
        "plt.ylabel(\"Фактическая цена\")\n",
        "\n",
        "plt.show()"
      ]
    },
    {
      "cell_type": "code",
      "execution_count": 32,
      "metadata": {
        "colab": {
          "base_uri": "https://localhost:8080/",
          "height": 472
        },
        "id": "Ow0tx71H-BTD",
        "outputId": "82c28efd-830b-4116-eff4-e1b7301d3578"
      },
      "outputs": [
        {
          "data": {
            "image/png": "[encoded data removed]",
            "text/plain": [
              "<Figure size 640x480 with 1 Axes>"
            ]
          },
          "metadata": {},
          "output_type": "display_data"
        }
      ],
      "source": [
        "sns.regplot(x=preds_val, y=y_val)\n",
        "\n",
        "plt.title(\"Оценка модели по валидационным данным\")\n",
        "plt.xlabel(\"Предсказанная цена\")\n",
        "plt.ylabel(\"Фактическая цена\")\n",
        "\n",
        "plt.show()"
      ]
    },
    {
      "cell_type": "code",
      "execution_count": 33,
      "metadata": {
        "id": "0Qwp8hYn-rKW"
      },
      "outputs": [],
      "source": [
        "preds_transformed_back = np.expm1(preds_test)\n",
        "\n",
        "y_test_transformed_back = np.expm1(y_test)"
      ]
    },
    {
      "cell_type": "code",
      "execution_count": 34,
      "metadata": {
        "colab": {
          "base_uri": "https://localhost:8080/"
        },
        "id": "OYrAzPZe-8sT",
        "outputId": "b1832d74-398d-4820-b4c4-022148f48926"
      },
      "outputs": [
        {
          "name": "stdout",
          "output_type": "stream",
          "text": [
            "Предсказанные данные\n",
            "[ 33.77829391 188.4951418  118.48666066  38.47755122  58.71072735]\n",
            "\n",
            "Реальные данные\n",
            "[ 33.69616318 188.90380859 118.99594879  38.87799072  58.48784256]\n",
            "\n",
            "Разница:\n",
            "[ 0.08213073 -0.40866679 -0.50928813 -0.4004395   0.22288479]\n"
          ]
        }
      ],
      "source": [
        "print(\"Предсказанные данные\")\n",
        "print(preds_transformed_back[:5])\n",
        "\n",
        "print()\n",
        "\n",
        "print(\"Реальные данные\")\n",
        "print(y_test_transformed_back[:5].values)\n",
        "\n",
        "print()\n",
        "print(\"Разница:\")\n",
        "print(preds_transformed_back[:5] - y_test_transformed_back[:5].values)"
      ]
    },
    {
      "cell_type": "code",
      "execution_count": 36,
      "metadata": {
        "id": "TKS1tF9HZqPW"
      },
      "outputs": [],
      "source": [
        "model_file_path = 'C:\\AI\\projects\\streamlit_learn\\project_1_mastercard.sav'\n",
        "pickle.dump(model, open(model_file_path, 'wb'))"
      ]
    }
  ],
  "metadata": {
    "colab": {
      "provenance": []
    },
    "kernelspec": {
      "display_name": "Python 3",
      "name": "python3"
    },
    "language_info": {
      "codemirror_mode": {
        "name": "ipython",
        "version": 3
      },
      "file_extension": ".py",
      "mimetype": "text/x-python",
      "name": "python",
      "nbconvert_exporter": "python",
      "pygments_lexer": "ipython3",
      "version": "3.11.5"
    }
  },
  "nbformat": 4,
  "nbformat_minor": 0
}
